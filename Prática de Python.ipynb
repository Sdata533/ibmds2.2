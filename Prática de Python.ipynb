{
 "cells": [
  {
   "cell_type": "code",
   "execution_count": 1,
   "id": "fda88382",
   "metadata": {},
   "outputs": [
    {
     "name": "stdout",
     "output_type": "stream",
     "text": [
      "M1\n"
     ]
    }
   ],
   "source": [
    "cpu = ['AMD', 'qualcomm', 'intel', 'M1']\n",
    "print(cpu[3])"
   ]
  },
  {
   "cell_type": "code",
   "execution_count": 2,
   "id": "8f595f0e",
   "metadata": {},
   "outputs": [
    {
     "name": "stdout",
     "output_type": "stream",
     "text": [
      "Qualcomm\n"
     ]
    }
   ],
   "source": [
    "print(cpu[1].title())"
   ]
  },
  {
   "cell_type": "code",
   "execution_count": 3,
   "id": "d79fd13d",
   "metadata": {},
   "outputs": [
    {
     "name": "stdout",
     "output_type": "stream",
     "text": [
      "['AMD', 'exynos', 'qualcomm', 'intel', 'M1']\n"
     ]
    }
   ],
   "source": [
    "cpu.insert(1, 'exynos')\n",
    "print(cpu)"
   ]
  },
  {
   "cell_type": "code",
   "execution_count": 4,
   "id": "61a12555",
   "metadata": {},
   "outputs": [
    {
     "name": "stdout",
     "output_type": "stream",
     "text": [
      "['AMD', 'exynos', 'qualcomm', 'intel']\n"
     ]
    }
   ],
   "source": [
    "del cpu[4]\n",
    "print(cpu)"
   ]
  },
  {
   "cell_type": "code",
   "execution_count": 5,
   "id": "93092f03",
   "metadata": {},
   "outputs": [
    {
     "name": "stdout",
     "output_type": "stream",
     "text": [
      "['AMD', 'exynos', 'qualcomm', 'intel', 'M1']\n"
     ]
    }
   ],
   "source": [
    "cpu.append('M1') #adicionando de novo\n",
    "print(cpu)"
   ]
  },
  {
   "cell_type": "code",
   "execution_count": 6,
   "id": "5b080526",
   "metadata": {},
   "outputs": [
    {
     "name": "stdout",
     "output_type": "stream",
     "text": [
      "['AMD', 'exynos', 'qualcomm', 'intel', 'M1']\n",
      "['AMD', 'exynos', 'qualcomm', 'intel']\n",
      "M1\n"
     ]
    }
   ],
   "source": [
    "print(cpu)\n",
    "popped_cpu = cpu.pop() #removeu a última\n",
    "print(cpu)\n",
    "print(popped_cpu)"
   ]
  },
  {
   "cell_type": "code",
   "execution_count": 7,
   "id": "7fb5464a",
   "metadata": {},
   "outputs": [
    {
     "name": "stdout",
     "output_type": "stream",
     "text": [
      "['Geforce', 'Adreno', 'M1']\n",
      "My first GPU was AMD.\n"
     ]
    }
   ],
   "source": [
    "gpu = ['AMD', 'Geforce', 'Adreno', 'M1']\n",
    "first_gpu = gpu.pop(0)\n",
    "print(gpu)\n",
    "print('My first GPU was' + ' ' + first_gpu + '.')"
   ]
  },
  {
   "cell_type": "code",
   "execution_count": 8,
   "id": "0f00e721",
   "metadata": {},
   "outputs": [
    {
     "name": "stdout",
     "output_type": "stream",
     "text": [
      "['AMD', 'exynos', 'intel', 'qualcomm']\n"
     ]
    }
   ],
   "source": [
    "cpu.sort()\n",
    "print(cpu)"
   ]
  },
  {
   "cell_type": "code",
   "execution_count": 9,
   "id": "923056e6",
   "metadata": {},
   "outputs": [
    {
     "name": "stdout",
     "output_type": "stream",
     "text": [
      "{'Color': 'green'}\n",
      "green\n"
     ]
    }
   ],
   "source": [
    "#CAP. 6 Dicionários\n",
    "\n",
    "alien_0 = {'Color': 'green'}\n",
    "print(alien_0)\n",
    "print(alien_0['Color'])"
   ]
  },
  {
   "cell_type": "code",
   "execution_count": 10,
   "id": "c0173e92",
   "metadata": {},
   "outputs": [
    {
     "name": "stdout",
     "output_type": "stream",
     "text": [
      "{'Color': 'Red', 'x_position': 25, 'y_position': 25}\n"
     ]
    }
   ],
   "source": [
    "#Trocando o valor\n",
    "alien_0['Color'] = 'Red'\n",
    "\n",
    "#Adicionando valor\n",
    "alien_0['x_position'] = 25\n",
    "alien_0['y_position'] = 25\n",
    "print(alien_0)"
   ]
  },
  {
   "cell_type": "code",
   "execution_count": 11,
   "id": "7adcdb7b",
   "metadata": {},
   "outputs": [
    {
     "name": "stdout",
     "output_type": "stream",
     "text": [
      "25\n"
     ]
    }
   ],
   "source": [
    "print(alien_0['y_position'])"
   ]
  },
  {
   "cell_type": "code",
   "execution_count": 12,
   "id": "3d70f964",
   "metadata": {},
   "outputs": [],
   "source": [
    "girls_from = {'russian': 'Iulia', \n",
    "              'ukranian': 'Valeska', \n",
    "              'english': 'Charlotte'}"
   ]
  },
  {
   "cell_type": "code",
   "execution_count": 13,
   "id": "efa53a85",
   "metadata": {},
   "outputs": [
    {
     "name": "stdout",
     "output_type": "stream",
     "text": [
      "Renata\n",
      "Saraiva\n",
      "36\n",
      "Rio de Janeiro\n"
     ]
    }
   ],
   "source": [
    "renata = {'first_name': 'Renata', \n",
    "          'last_name': 'Saraiva', \n",
    "          'age': 36, \n",
    "          'city': 'Rio de Janeiro'}\n",
    "\n",
    "print(renata['first_name'])\n",
    "print(renata['last_name'])\n",
    "print(renata['age'])\n",
    "print(renata['city'])"
   ]
  },
  {
   "cell_type": "code",
   "execution_count": 14,
   "id": "3efc5d69",
   "metadata": {},
   "outputs": [
    {
     "name": "stdout",
     "output_type": "stream",
     "text": [
      "Meu nome é Renata Saraiva, moro no Rio de Janeiro e tenho 36 anos.\n"
     ]
    }
   ],
   "source": [
    "print('Meu nome é ' + renata['first_name'] + ' ' + renata['last_name'] + ',' + ' moro no ' + renata['city'] + ' e tenho ' + str(renata['age']) + ' anos.')"
   ]
  },
  {
   "cell_type": "code",
   "execution_count": 15,
   "id": "10e6c77d",
   "metadata": {},
   "outputs": [
    {
     "name": "stdout",
     "output_type": "stream",
     "text": [
      "O nome é Iulia\n",
      "O nome é Valeska\n",
      "O nome é Charlotte\n"
     ]
    }
   ],
   "source": [
    "for name in girls_from.values():\n",
    "    print('O nome é ' + name)    "
   ]
  },
  {
   "cell_type": "code",
   "execution_count": 16,
   "id": "06eb4377",
   "metadata": {},
   "outputs": [
    {
     "name": "stdout",
     "output_type": "stream",
     "text": [
      "\n",
      "Nome é Iulia\n",
      "Nacionalidade é da russian\n",
      "\n",
      "Nome é Valeska\n",
      "Nacionalidade é da ukranian\n",
      "\n",
      "Nome é Charlotte\n",
      "Nacionalidade é da english\n"
     ]
    }
   ],
   "source": [
    "for nation, name in girls_from.items():\n",
    "    print('\\nNome é ' + name)\n",
    "    print('Nacionalidade é da ' + nation)"
   ]
  },
  {
   "cell_type": "code",
   "execution_count": 17,
   "id": "cb091a57",
   "metadata": {},
   "outputs": [
    {
     "name": "stdout",
     "output_type": "stream",
     "text": [
      "Russian\n",
      "Ukranian\n",
      "English\n"
     ]
    }
   ],
   "source": [
    "for nation in girls_from.keys():\n",
    "\tprint(nation.title())"
   ]
  },
  {
   "cell_type": "code",
   "execution_count": 1,
   "id": "0045c3f7",
   "metadata": {},
   "outputs": [],
   "source": [
    "import pandas as pd\n",
    "import numpy as np\n",
    "import matplotlib as plt"
   ]
  },
  {
   "cell_type": "code",
   "execution_count": 2,
   "id": "14f99157",
   "metadata": {},
   "outputs": [
    {
     "name": "stdout",
     "output_type": "stream",
     "text": [
      "C is a/the trash\n",
      "python is a/the best\n",
      "javascript is a/the so-so\n",
      "R is a/the necessary\n",
      "julia is a/the potencial\n"
     ]
    },
    {
     "data": {
      "text/html": [
       "<div>\n",
       "<style scoped>\n",
       "    .dataframe tbody tr th:only-of-type {\n",
       "        vertical-align: middle;\n",
       "    }\n",
       "\n",
       "    .dataframe tbody tr th {\n",
       "        vertical-align: top;\n",
       "    }\n",
       "\n",
       "    .dataframe thead th {\n",
       "        text-align: right;\n",
       "    }\n",
       "</style>\n",
       "<table border=\"1\" class=\"dataframe\">\n",
       "  <thead>\n",
       "    <tr style=\"text-align: right;\">\n",
       "      <th></th>\n",
       "      <th>C</th>\n",
       "      <th>python</th>\n",
       "      <th>javascript</th>\n",
       "      <th>R</th>\n",
       "      <th>julia</th>\n",
       "    </tr>\n",
       "  </thead>\n",
       "  <tbody>\n",
       "    <tr>\n",
       "      <th>0</th>\n",
       "      <td>trash</td>\n",
       "      <td>best</td>\n",
       "      <td>so-so</td>\n",
       "      <td>necessary</td>\n",
       "      <td>potencial</td>\n",
       "    </tr>\n",
       "  </tbody>\n",
       "</table>\n",
       "</div>"
      ],
      "text/plain": [
       "       C python javascript          R      julia\n",
       "0  trash   best      so-so  necessary  potencial"
      ]
     },
     "execution_count": 2,
     "metadata": {},
     "output_type": "execute_result"
    }
   ],
   "source": [
    "lang_gloss = {'C': 'trash', \n",
    "              'python': 'best', \n",
    "              'javascript': 'so-so', \n",
    "              'R': 'necessary', \n",
    "              'julia': 'potencial'}\n",
    "\n",
    "for language, atribute in lang_gloss.items():\n",
    "    print(language + ' is a/the ' + atribute)\n",
    "    \n",
    "new_one = pd.DataFrame([lang_gloss])\n",
    "new_one"
   ]
  },
  {
   "cell_type": "code",
   "execution_count": 21,
   "id": "ff3154a7",
   "metadata": {
    "scrolled": true
   },
   "outputs": [
    {
     "name": "stdout",
     "output_type": "stream",
     "text": [
      "{'color': 'green', 'points': 5, 'speed': 'slow'}\n",
      "{'color': 'green', 'points': 5, 'speed': 'slow'}\n",
      "{'color': 'green', 'points': 5, 'speed': 'slow'}\n",
      "{'color': 'green', 'points': 5, 'speed': 'slow'}\n",
      "{'color': 'green', 'points': 5, 'speed': 'slow'}\n",
      "...\n",
      "Total number of aliens: 30\n"
     ]
    }
   ],
   "source": [
    "# Cria uma lista vazia para armazenar alienígenas\n",
    "aliens = []\n",
    "\n",
    "# Cria 30 alienígenas verdes\n",
    "for alien_number in range(30):\n",
    "    new_alien = {'color': 'green', 'points': 5, 'speed': 'slow'}\n",
    "    aliens.append(new_alien)\n",
    "\n",
    "# Mostra os 5 primeiros alienígenas\n",
    "for alien in aliens[:5]:\n",
    "    print(alien)\n",
    "print(\"...\")\n",
    "\n",
    "# Mostra quantos alienígenas foram criados\n",
    "print(\"Total number of aliens: \" + str(len(aliens)))"
   ]
  },
  {
   "cell_type": "code",
   "execution_count": 22,
   "id": "3c33d303",
   "metadata": {
    "scrolled": true
   },
   "outputs": [
    {
     "name": "stdout",
     "output_type": "stream",
     "text": [
      "[{'color': 'green', 'points': 6, 'speed': 'slow'}, {'color': 'green', 'points': 6, 'speed': 'slow'}, {'color': 'green', 'points': 6, 'speed': 'slow'}, {'color': 'green', 'points': 6, 'speed': 'slow'}, {'color': 'green', 'points': 6, 'speed': 'slow'}, {'color': 'green', 'points': 6, 'speed': 'slow'}, {'color': 'green', 'points': 6, 'speed': 'slow'}, {'color': 'green', 'points': 6, 'speed': 'slow'}, {'color': 'green', 'points': 6, 'speed': 'slow'}, {'color': 'green', 'points': 6, 'speed': 'slow'}, {'color': 'green', 'points': 6, 'speed': 'slow'}, {'color': 'green', 'points': 6, 'speed': 'slow'}, {'color': 'green', 'points': 6, 'speed': 'slow'}, {'color': 'green', 'points': 6, 'speed': 'slow'}, {'color': 'green', 'points': 6, 'speed': 'slow'}, {'color': 'green', 'points': 6, 'speed': 'slow'}, {'color': 'green', 'points': 6, 'speed': 'slow'}, {'color': 'green', 'points': 6, 'speed': 'slow'}, {'color': 'green', 'points': 6, 'speed': 'slow'}, {'color': 'green', 'points': 6, 'speed': 'slow'}, {'color': 'green', 'points': 6, 'speed': 'slow'}, {'color': 'green', 'points': 6, 'speed': 'slow'}, {'color': 'green', 'points': 6, 'speed': 'slow'}, {'color': 'green', 'points': 6, 'speed': 'slow'}, {'color': 'green', 'points': 6, 'speed': 'slow'}, {'color': 'green', 'points': 6, 'speed': 'slow'}, {'color': 'green', 'points': 6, 'speed': 'slow'}, {'color': 'green', 'points': 6, 'speed': 'slow'}, {'color': 'green', 'points': 6, 'speed': 'slow'}, {'color': 'green', 'points': 6, 'speed': 'slow'}]\n"
     ]
    }
   ],
   "source": [
    "for alien in aliens:\n",
    "    alien['points'] += 1\n",
    "\n",
    "print(aliens)"
   ]
  },
  {
   "cell_type": "code",
   "execution_count": 30,
   "id": "5a2577e9",
   "metadata": {},
   "outputs": [
    {
     "name": "stdout",
     "output_type": "stream",
     "text": [
      "Iulia is ['hot', 'nasty', 'breasty']\n",
      "Ana is ['delicious', 'cocksucker', 'redhair']\n"
     ]
    }
   ],
   "source": [
    "#Lista dentro do dicionário\n",
    "\n",
    "women = {'iulia': ['hot', 'nasty', 'breasty'],\n",
    "'ana': ['delicious', 'cocksucker', 'redhair']}\n",
    "\n",
    "for name, sexer in women.items():\n",
    "    print(name.title() + ' is' + ' ' + str(sexer))"
   ]
  },
  {
   "cell_type": "markdown",
   "id": "f8f03f56",
   "metadata": {},
   "source": [
    "CAPÍTULO 7 - While"
   ]
  },
  {
   "cell_type": "code",
   "execution_count": 3,
   "id": "d97a8afd",
   "metadata": {},
   "outputs": [
    {
     "name": "stdout",
     "output_type": "stream",
     "text": [
      "Quantos anos? 0\n",
      "0\n"
     ]
    }
   ],
   "source": [
    "a = int(input('Quantos anos? '))\n",
    "print(a)"
   ]
  },
  {
   "cell_type": "code",
   "execution_count": 11,
   "id": "0d3f4e65",
   "metadata": {},
   "outputs": [
    {
     "name": "stdout",
     "output_type": "stream",
     "text": [
      "If you tell ya name, we do that.\n",
      "What is ur name? K\n",
      "\n",
      "Hey K u sucker\n"
     ]
    }
   ],
   "source": [
    "#greeter\n",
    "\n",
    "prompt = 'If you tell ya name, we do that.'\n",
    "prompt += '\\nWhat is ur name? '\n",
    "name = input(prompt)\n",
    "print('\\nHey ' + name + ' u sucker')"
   ]
  },
  {
   "cell_type": "code",
   "execution_count": 16,
   "id": "2f1bd4ad",
   "metadata": {},
   "outputs": [
    {
     "name": "stdout",
     "output_type": "stream",
     "text": [
      "\n",
      "Diga que repito \n",
      "Digite 'quit' pra sair: v\n",
      "v\n",
      "\n",
      "Diga que repito \n",
      "Digite 'quit' pra sair: quit\n"
     ]
    }
   ],
   "source": [
    "#While\n",
    "\n",
    "prompt = '\\nDiga que repito '\n",
    "prompt += \"\\nDigite 'quit' pra sair: \"\n",
    "\n",
    "message = \"\"\n",
    "while message != 'quit':\n",
    "    message = input(prompt)\n",
    "    \n",
    "    if message != 'quit':\n",
    "        print(message)"
   ]
  },
  {
   "cell_type": "code",
   "execution_count": 3,
   "id": "09bd9454",
   "metadata": {},
   "outputs": [
    {
     "data": {
      "text/plain": [
       "4"
      ]
     },
     "execution_count": 3,
     "metadata": {},
     "output_type": "execute_result"
    }
   ],
   "source": [
    "4 % 5"
   ]
  },
  {
   "cell_type": "code",
   "execution_count": 4,
   "id": "25fd815a-8b6c-453f-b9b9-0a266fe83b1f",
   "metadata": {},
   "outputs": [
    {
     "data": {
      "text/plain": [
       "1"
      ]
     },
     "execution_count": 4,
     "metadata": {},
     "output_type": "execute_result"
    }
   ],
   "source": [
    "4 % 3"
   ]
  },
  {
   "cell_type": "code",
   "execution_count": 8,
   "id": "4cee7793-c62e-470a-8007-2fd2ed488ada",
   "metadata": {},
   "outputs": [
    {
     "name": "stdin",
     "output_type": "stream",
     "text": [
      "\n",
      "Please enter the name of a city you have visited:\n",
      "(Enter 'quit' when you are finished.)  rio\n"
     ]
    },
    {
     "name": "stdout",
     "output_type": "stream",
     "text": [
      "Quero foder com você em Rio!\n"
     ]
    },
    {
     "name": "stdin",
     "output_type": "stream",
     "text": [
      "\n",
      "Please enter the name of a city you have visited:\n",
      "(Enter 'quit' when you are finished.)  vegas\n"
     ]
    },
    {
     "name": "stdout",
     "output_type": "stream",
     "text": [
      "Quero foder com você em Vegas!\n"
     ]
    },
    {
     "name": "stdin",
     "output_type": "stream",
     "text": [
      "\n",
      "Please enter the name of a city you have visited:\n",
      "(Enter 'quit' when you are finished.)  varsóvia\n"
     ]
    },
    {
     "name": "stdout",
     "output_type": "stream",
     "text": [
      "Quero foder com você em Varsóvia!\n"
     ]
    },
    {
     "name": "stdin",
     "output_type": "stream",
     "text": [
      "\n",
      "Please enter the name of a city you have visited:\n",
      "(Enter 'quit' when you are finished.)  quit\n"
     ]
    }
   ],
   "source": [
    "#Break\n",
    "\n",
    "prompt = \"\\nPlease enter the name of a city you have visited:\"\n",
    "prompt += \"\\n(Enter 'quit' when you are finished.) \"\n",
    "\n",
    "while True:\n",
    "    city = input(prompt)\n",
    "    \n",
    "    if city == 'quit':\n",
    "        break\n",
    "    else:\n",
    "        print('Quero ir com você em ' + city.title() + '!')\n",
    "\n",
    "#Nota: o 'while True' coloca para executar indefinidamente!"
   ]
  },
  {
   "cell_type": "code",
   "execution_count": 12,
   "id": "4948c6b8-9767-43bc-8739-2d25bf63098b",
   "metadata": {},
   "outputs": [
    {
     "name": "stdout",
     "output_type": "stream",
     "text": [
      "1\n",
      "3\n",
      "5\n",
      "7\n",
      "9\n"
     ]
    }
   ],
   "source": [
    "#instrução continue pula a coisa atual e vai pra próxima\n",
    "\n",
    "current_number = 0\n",
    "while current_number < 10:\n",
    "    current_number += 1\n",
    "    if current_number % 2 == 0:\n",
    "        continue\n",
    "    print(current_number)"
   ]
  },
  {
   "cell_type": "code",
   "execution_count": null,
   "id": "fa2e5be5-1b62-4ba9-8593-e458f4bf36c5",
   "metadata": {},
   "outputs": [],
   "source": []
  }
 ],
 "metadata": {
  "kernelspec": {
   "display_name": "Python 3 (ipykernel)",
   "language": "python",
   "name": "python3"
  },
  "language_info": {
   "codemirror_mode": {
    "name": "ipython",
    "version": 3
   },
   "file_extension": ".py",
   "mimetype": "text/x-python",
   "name": "python",
   "nbconvert_exporter": "python",
   "pygments_lexer": "ipython3",
   "version": "3.9.10"
  }
 },
 "nbformat": 4,
 "nbformat_minor": 5
}
